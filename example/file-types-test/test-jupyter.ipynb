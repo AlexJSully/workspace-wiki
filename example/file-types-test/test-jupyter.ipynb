{
 "cells": [
  {
   "cell_type": "code",
   "execution_count": null,
   "id": "358e3d6a",
   "metadata": {},
   "outputs": [],
   "source": [
    "# Export: This cell is for testing Jupyter exclusion in Workspace Wiki\n",
    "print('Hello, World!')"
   ]
  }
 ],
 "metadata": {
  "language_info": {
   "name": "python"
  }
 },
 "nbformat": 4,
 "nbformat_minor": 5
}
